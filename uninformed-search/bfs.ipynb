{
 "cells": [
  {
   "cell_type": "code",
   "execution_count": null,
   "metadata": {},
   "outputs": [],
   "source": [
    "from collections import deque\n",
    "def bfs(start, goal, graph):\n",
    "    queue = deque([start])\n",
    "    visited = set([start])\n",
    "    parent = {start: None}\n",
    "    \n",
    "    while queue:\n",
    "        node = queue.popleft()\n",
    "        if node == goal:\n",
    "            path = []\n",
    "            while node is not None:\n",
    "                path.append(node)\n",
    "                node = parent[node]\n",
    "            return path[::-1]\n",
    "        \n",
    "        else:# cek setiap node in node yang ada\n",
    "            for nodeinnode in graph[node]:\n",
    "                if nodeinnode not in visited:\n",
    "                    queue.append(nodeinnode)\n",
    "                    visited.add(nodeinnode)\n",
    "                    parent[nodeinnode] = node\n",
    "        \n",
    "graph = {'A':['B','C'],\n",
    "         'B':['D','E'],\n",
    "         'C':['F','G'],\n",
    "         'D':[],\n",
    "         'E':[],\n",
    "         'F':[],\n",
    "         'G':[]}\n",
    "\n",
    "start = 'A'\n",
    "goal = 'E'\n",
    "result = bfs(start, goal, graph)\n",
    "print(result)"
   ]
  }
 ],
 "metadata": {
  "language_info": {
   "name": "python"
  }
 },
 "nbformat": 4,
 "nbformat_minor": 2
}
