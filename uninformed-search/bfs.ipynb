from collections import deque
def bfs(start, goal, graph):
    queue = deque([start])
    visited = set([start])
    parent = {start: None}
    
    while queue:
        node = queue.popleft()
        if node == goal:
            path = []
            while node is not None:
                path.append(node)
                node = parent[node]
            return path[::-1]
        
        else:# cek setiap node in node yang ada
            for nodeinnode in graph[node]:
                if nodeinnode not in visited:
                    queue.append(nodeinnode)
                    visited.add(nodeinnode)
                    parent[nodeinnode] = node
        
graph = {'A':['B','C'],
         'B':['D','E'],
         'C':['F','G'],
         'D':[],
         'E':[],
         'F':[],
         'G':[]}

start = 'A'
goal = 'E'
result = bfs(start, goal, graph)
print(result)
